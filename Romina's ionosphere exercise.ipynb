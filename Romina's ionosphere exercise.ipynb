{
 "cells": [
  {
   "cell_type": "code",
   "execution_count": 1,
   "metadata": {},
   "outputs": [
    {
     "data": {
      "text/plain": [
       "{'__header__': b'MATLAB 5.0 MAT-file, Platform: PCWIN64, Created on: Thu Aug  8 13:25:27 2024',\n",
       " '__version__': '1.0',\n",
       " '__globals__': [],\n",
       " 'altitude_km': array([[ 80.      ,  80.30012 ,  80.600235, ..., 486.50345 , 496.50345 ,\n",
       "         506.50345 ],\n",
       "        [ 80.      ,  80.30012 ,  80.600235, ..., 486.50345 , 496.50345 ,\n",
       "         506.50345 ],\n",
       "        [ 80.      ,  80.30012 ,  80.600235, ..., 486.50345 , 496.50345 ,\n",
       "         506.50345 ],\n",
       "        ...,\n",
       "        [ 80.      ,  80.30012 ,  80.600235, ..., 486.50345 , 496.50345 ,\n",
       "         506.50345 ],\n",
       "        [ 80.      ,  80.30012 ,  80.600235, ..., 486.50345 , 496.50345 ,\n",
       "         506.50345 ],\n",
       "        [ 80.      ,  80.30012 ,  80.600235, ..., 486.50345 , 496.50345 ,\n",
       "         506.50345 ]], dtype=float32),\n",
       " 'density': array([[1.4505060e+09, 1.5569901e+09, 1.6708202e+09, ..., 8.1348941e+09,\n",
       "         7.7112366e+09, 7.4628280e+09],\n",
       "        [1.5114994e+09, 1.6225635e+09, 1.7412252e+09, ..., 8.0672819e+09,\n",
       "         7.6747658e+09, 7.4710456e+09],\n",
       "        [1.4878948e+09, 1.5974757e+09, 1.7146039e+09, ..., 8.1328364e+09,\n",
       "         7.5894758e+09, 7.4277100e+09],\n",
       "        ...,\n",
       "        [2.4839203e+10, 2.6037516e+10, 2.7267092e+10, ..., 6.8947000e+09,\n",
       "         6.4053289e+09, 6.1580006e+09],\n",
       "        [2.1566808e+10, 2.2628307e+10, 2.3719672e+10, ..., 6.9930296e+09,\n",
       "         6.4711265e+09, 6.1886100e+09],\n",
       "        [1.7757975e+10, 1.8653258e+10, 1.9576291e+10, ..., 6.9911690e+09,\n",
       "         6.4662605e+09, 6.1732511e+09]], dtype=float32),\n",
       " 'distance_north_km': array([[-111.19964 , -111.19964 , -111.19964 , ..., -111.19964 ,\n",
       "         -111.19964 , -111.19964 ],\n",
       "        [-105.732895, -105.732895, -105.732895, ..., -105.732895,\n",
       "         -105.732895, -105.732895],\n",
       "        [-101.80761 , -101.80761 , -101.80761 , ..., -101.80761 ,\n",
       "         -101.80761 , -101.80761 ],\n",
       "        ...,\n",
       "        [ 101.80761 ,  101.80761 ,  101.80761 , ...,  101.80761 ,\n",
       "          101.80761 ,  101.80761 ],\n",
       "        [ 105.732895,  105.732895,  105.732895, ...,  105.732895,\n",
       "          105.732895,  105.732895],\n",
       "        [ 111.19964 ,  111.19964 ,  111.19964 , ...,  111.19964 ,\n",
       "          111.19964 ,  111.19964 ]], dtype=float32),\n",
       " 'latitude_deg': array([[65.02422 , 65.02422 , 65.02422 , ..., 65.02422 , 65.02422 ,\n",
       "         65.02422 ],\n",
       "        [65.073395, 65.073395, 65.073395, ..., 65.073395, 65.073395,\n",
       "         65.073395],\n",
       "        [65.1087  , 65.1087  , 65.1087  , ..., 65.1087  , 65.1087  ,\n",
       "         65.1087  ],\n",
       "        ...,\n",
       "        [66.94014 , 66.94014 , 66.94014 , ..., 66.94014 , 66.94014 ,\n",
       "         66.94014 ],\n",
       "        [66.97545 , 66.97545 , 66.97545 , ..., 66.97545 , 66.97545 ,\n",
       "         66.97545 ],\n",
       "        [67.02462 , 67.02462 , 67.02462 , ..., 67.02462 , 67.02462 ,\n",
       "         67.02462 ]], dtype=float32)}"
      ]
     },
     "execution_count": 1,
     "metadata": {},
     "output_type": "execute_result"
    }
   ],
   "source": [
    "# Assume a 2D ionosphere\n",
    "\n",
    "import h5py\n",
    "import scipy.io\n",
    "import numpy as np\n",
    "scipy.io.loadmat('for_shreya.mat')"
   ]
  },
  {
   "cell_type": "code",
   "execution_count": 24,
   "metadata": {},
   "outputs": [],
   "source": [
    "# create arrays for 2D ionosphere\n",
    "\n",
    "alt = []\n",
    "dens = []\n",
    "dist = []\n",
    "lat = []\n",
    "alt = scipy.io.loadmat('for_shreya.mat')['altitude_km']\n",
    "dens = scipy.io.loadmat('for_shreya.mat')['density']\n",
    "dist = scipy.io.loadmat('for_shreya.mat')['distance_north_km']\n",
    "lat = scipy.io.loadmat('for_shreya.mat')['latitude_deg']\n",
    "\n",
    "alt_scene = []\n",
    "alt_scene = alt[0]\n",
    "lat_scene = []\n",
    "lat_scene = [sub_array[0] for sub_array in lat]\n",
    "dens_scene = [sub_array[0] for sub_array in dens]"
   ]
  },
  {
   "cell_type": "code",
   "execution_count": 3,
   "metadata": {},
   "outputs": [
    {
     "name": "stdout",
     "output_type": "stream",
     "text": [
      "Time_rttraj: [0.00000e+00 1.00000e-01 2.00000e-01 ... 6.00000e+02 6.05000e+02\n",
      " 6.05898e+02]\n",
      "Latgd_rttraj: [65.13021 65.13021 65.13021 ... 68.55332 68.55354 68.55357]\n",
      "Long_rttraj: [-147.48321 -147.48321 -147.48321 ... -144.69223 -144.69198 -144.69194]\n",
      "Altkm_rttraj: [0.208 0.208 0.209 ... 0.835 0.124 0.   ]\n",
      "{'Time': array([0.00000e+00, 1.00000e-01, 2.00000e-01, ..., 6.00000e+02,\n",
      "       6.05000e+02, 6.05898e+02]), 'Latgd': array([65.13021, 65.13021, 65.13021, ..., 68.55332, 68.55354, 68.55357]), 'Long': array([-147.48321, -147.48321, -147.48321, ..., -144.69223, -144.69198,\n",
      "       -144.69194]), 'Altkm': array([0.208, 0.208, 0.209, ..., 0.835, 0.124, 0.   ])}\n"
     ]
    }
   ],
   "source": [
    "# Trajectory path \n",
    "# Use genfromtxt to load the file with handling for missing values\n",
    "# trajectory = np.genfromtxt(\"Traj_Right.txt\", skip_header=1, dtype=float)\n",
    "\n",
    "# # Read the header separately\n",
    "# with open('Traj_Right.txt', 'r') as file:\n",
    "#     headers = file.readline().strip().split()\n",
    "\n",
    "# # Create arrays for each column using the header titles\n",
    "# traj_arrays = {header: trajectory[:, i] for i, header in enumerate(headers)}\n",
    "\n",
    "# # Print each array with its corresponding title\n",
    "# for title, array in traj_arrays.items():\n",
    "#     title = title + \"_rttraj\"\n",
    "#     print(f\"{title}: {array}\")\n",
    "\n",
    "# print(traj_arrays)"
   ]
  },
  {
   "cell_type": "raw",
   "metadata": {},
   "source": [
    "# to make 2d -- assume satellite goes at 500 km, changing latitude only (circle) - so don't need to worry about longitude "
   ]
  },
  {
   "cell_type": "code",
   "execution_count": 34,
   "metadata": {},
   "outputs": [],
   "source": [
    "alt_traj = 400\n"
   ]
  },
  {
   "cell_type": "code",
   "execution_count": 33,
   "metadata": {},
   "outputs": [],
   "source": [
    "# DISCRETIZATION grid \n",
    "\n",
    "# so i have a bunch of values from gemini  -- arrays of 425 \n",
    "from scipy.interpolate import RegularGridInterpolator\n",
    "\n",
    "alt_min, alt_max = min(alt_scene), max(alt_scene)\n",
    "lat_min, lat_max = min(lat_scene), max(lat_scene)\n",
    "\n",
    "grid_lat, grid_alt = np.mgrid[lat_min:lat_max:100j, alt_min:alt_max:100j]\n",
    "grid_density = RegularGridInterpolator(points=(lat_scene, alt_scene), values = dens, method = 'linear')"
   ]
  },
  {
   "cell_type": "code",
   "execution_count": null,
   "metadata": {},
   "outputs": [],
   "source": [
    "# for the integration -- riemann sum "
   ]
  }
 ],
 "metadata": {
  "kernelspec": {
   "display_name": "Python 3",
   "language": "python",
   "name": "python3"
  },
  "language_info": {
   "codemirror_mode": {
    "name": "ipython",
    "version": 3
   },
   "file_extension": ".py",
   "mimetype": "text/x-python",
   "name": "python",
   "nbconvert_exporter": "python",
   "pygments_lexer": "ipython3",
   "version": "3.8.5"
  }
 },
 "nbformat": 4,
 "nbformat_minor": 4
}
